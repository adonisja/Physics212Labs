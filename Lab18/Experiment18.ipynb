{
 "cells": [
  {
   "cell_type": "code",
   "execution_count": 13,
   "id": "2ca11930",
   "metadata": {},
   "outputs": [],
   "source": [
    "import pandas as pd\n",
    "import matplotlib.pyplot as plt\n",
    "import seaborn as sns\n",
    "import numpy as np\n",
    "from sklearn.linear_model import LinearRegression\n",
    "from IPython.display import display, Markdown\n",
    "from scipy.stats import linregress"
   ]
  },
  {
   "cell_type": "code",
   "execution_count": 20,
   "id": "f1570c33",
   "metadata": {},
   "outputs": [
    {
     "data": {
      "text/markdown": [
       "\n",
       "### 🌊 Difference Between a Travelling Wave and a Standing Wave\n",
       "\n",
       "| **Aspect**             | **Travelling Wave**                                                | **Standing Wave**                                                   |\n",
       "|------------------------|--------------------------------------------------------------------|----------------------------------------------------------------------|\n",
       "| **Definition**         | A wave that moves through a medium, transferring energy.           | A wave that appears to stay in place, formed by the interference of two travelling waves moving in opposite directions. |\n",
       "| **Waveform Behavior**  | The entire waveform moves in one direction (left or right).        | The waveform does not travel; nodes and antinodes form in fixed locations. |\n",
       "| **Energy Transfer**    | Energy is transported from one location to another.                | No net energy transfer through the medium (energy is stored and redistributed locally). |\n",
       "| **Nodes & Antinodes**  | Not fixed; all points oscillate with the same amplitude (if ideal).| Nodes (no motion) and antinodes (maximum motion) are fixed in space. |\n",
       "| **Equation Form**      | $$y(x, t) = A \\sin(kx - \\omega t) \\text{ or } A \\sin(kx + \\omega t)$$ | $$y(x, t) = 2A \\sin(kx) \\cos(\\omega t)$$ |\n",
       "| **Example**            | Sound waves, water ripples, electromagnetic waves                  | Vibrating strings, air columns in musical instruments |\n"
      ],
      "text/plain": [
       "<IPython.core.display.Markdown object>"
      ]
     },
     "metadata": {},
     "output_type": "display_data"
    }
   ],
   "source": [
    "markdown_text = \"\"\"\n",
    "### 🌊 Difference Between a Travelling Wave and a Standing Wave\n",
    "\n",
    "| **Aspect**             | **Travelling Wave**                                                | **Standing Wave**                                                   |\n",
    "|------------------------|--------------------------------------------------------------------|----------------------------------------------------------------------|\n",
    "| **Definition**         | {}           | {} |\n",
    "| **Waveform Behavior**  | {}        | {} |\n",
    "| **Energy Transfer**    | {}                | {} |\n",
    "| **Nodes & Antinodes**  | {}| {} |\n",
    "| **Equation Form**      | $${}$$ | $${}$$ |\n",
    "| **Example**            | {}                  | {} |\n",
    "\"\"\".format(\n",
    "    \"A wave that moves through a medium, transferring energy.\",\n",
    "    \"A wave that appears to stay in place, formed by the interference of two travelling waves moving in opposite directions.\",\n",
    "    \"The entire waveform moves in one direction (left or right).\",\n",
    "    \"The waveform does not travel; nodes and antinodes form in fixed locations.\",\n",
    "    \"Energy is transported from one location to another.\",\n",
    "    \"No net energy transfer through the medium (energy is stored and redistributed locally).\",\n",
    "    \"Not fixed; all points oscillate with the same amplitude (if ideal).\",\n",
    "    \"Nodes (no motion) and antinodes (maximum motion) are fixed in space.\",\n",
    "    \"y(x, t) = A \\\\sin(kx - \\\\omega t) \\\\text{ or } A \\\\sin(kx + \\\\omega t)\",\n",
    "    \"y(x, t) = 2A \\\\sin(kx) \\\\cos(\\\\omega t)\",\n",
    "    \"Sound waves, water ripples, electromagnetic waves\",\n",
    "    \"Vibrating strings, air columns in musical instruments\"\n",
    ")\n",
    "\n",
    "display(Markdown(markdown_text))\n"
   ]
  },
  {
   "cell_type": "code",
   "execution_count": 21,
   "id": "fba6722c",
   "metadata": {},
   "outputs": [
    {
     "data": {
      "text/markdown": [
       "\n",
       "### 🎵 Examples of Standing Waves in Daily Life\n",
       "\n",
       "1. **Musical Instruments (e.g., guitar, violin, piano)**  \n",
       "   Standing waves form on strings fixed at both ends, with nodes at the ends and antinodes in between.  \n",
       "   The fundamental mode is:  \n",
       "   $$y(x, t) = 2A \\sin\\left(\\frac{\\pi x}{L}\\right) \\cos(\\omega t)$$  \n",
       "   where \\( L \\) is the length of the string and \\( \\omega \\) is the angular frequency.\n",
       "\n",
       "2. **Microwave Ovens**  \n",
       "   Standing electromagnetic waves form inside the cavity due to reflections.  \n",
       "   Regions with no heating correspond to nodes in the wave pattern.  \n",
       "   The electric field can be described by:  \n",
       "   $$E(x, t) = 2E_0 \\sin(kx) \\cos(\\omega t)$$  \n",
       "   which creates fixed hot and cold spots in the oven.\n",
       "\n",
       "3. **Air Columns in Wind Instruments (e.g., flute, pipe, clarinet)**  \n",
       "   Sound waves reflect at boundaries and interfere to form standing waves.  \n",
       "   For an open-open tube:  \n",
       "   $$y(x, t) = 2A \\sin\\left(\\frac{n\\pi x}{L}\\right) \\cos(\\omega t), \\quad n = 1, 2, 3, \\ldots$$  \n",
       "   where \\( n \\) is the harmonic number.\n"
      ],
      "text/plain": [
       "<IPython.core.display.Markdown object>"
      ]
     },
     "metadata": {},
     "output_type": "display_data"
    }
   ],
   "source": [
    "markdown_text = r\"\"\"\n",
    "### 🎵 Examples of Standing Waves in Daily Life\n",
    "\n",
    "1. **Musical Instruments (e.g., guitar, violin, piano)**  \n",
    "   Standing waves form on strings fixed at both ends, with nodes at the ends and antinodes in between.  \n",
    "   The fundamental mode is:  \n",
    "   $$y(x, t) = 2A \\sin\\left(\\frac{\\pi x}{L}\\right) \\cos(\\omega t)$$  \n",
    "   where \\( L \\) is the length of the string and \\( \\omega \\) is the angular frequency.\n",
    "\n",
    "2. **Microwave Ovens**  \n",
    "   Standing electromagnetic waves form inside the cavity due to reflections.  \n",
    "   Regions with no heating correspond to nodes in the wave pattern.  \n",
    "   The electric field can be described by:  \n",
    "   $$E(x, t) = 2E_0 \\sin(kx) \\cos(\\omega t)$$  \n",
    "   which creates fixed hot and cold spots in the oven.\n",
    "\n",
    "3. **Air Columns in Wind Instruments (e.g., flute, pipe, clarinet)**  \n",
    "   Sound waves reflect at boundaries and interfere to form standing waves.  \n",
    "   For an open-open tube:  \n",
    "   $$y(x, t) = 2A \\sin\\left(\\frac{n\\pi x}{L}\\right) \\cos(\\omega t), \\quad n = 1, 2, 3, \\ldots$$  \n",
    "   where \\( n \\) is the harmonic number.\n",
    "\"\"\"\n",
    "\n",
    "display(Markdown(markdown_text))\n"
   ]
  },
  {
   "cell_type": "code",
   "execution_count": 22,
   "id": "1388e28d",
   "metadata": {},
   "outputs": [
    {
     "data": {
      "text/markdown": [
       "\n",
       "### 🧵 Wave Speed Difference Between Strings A and B\n",
       "\n",
       "**Question:**  \n",
       "If two strings A and B of identical length and fixed boundaries are subject to the same initial disturbance, why might a wave travel *slower* along string A than along string B?\n",
       "\n",
       "**Correct Choice: a) Tension is higher in string B**\n",
       "\n",
       "#### ✅ Explanation:\n",
       "The speed \\( v \\) of a wave on a string is given by the equation:\n",
       "\n",
       "$$\n",
       "v = \\sqrt{\\frac{T}{\\mu}}\n",
       "$$\n",
       "\n",
       "where:\n",
       "- \\( T \\) is the **tension** in the string,\n",
       "- \\( \\mu \\) is the **linear mass density** (mass per unit length).\n",
       "\n",
       "So, if **tension is higher in string B** while the mass density remains the same for both strings, then:\n",
       "\n",
       "- \\( v_B = \\sqrt{T_B / \\mu} \\) will be **greater** than\n",
       "- \\( v_A = \\sqrt{T_A / \\mu} \\) if \\( T_B > T_A \\)\n",
       "\n",
       "Hence, **the wave travels slower in string A** because it has **lower tension**.\n",
       "\n",
       "#### ❌ Why not the other options?\n",
       "- **(b)** If the linear mass density is higher in string B, it would **slow down** the wave in B, not speed it up.\n",
       "- **(c)** Painting a string **does not significantly affect** wave speed, unless it changes mass/tension, which is not stated.\n"
      ],
      "text/plain": [
       "<IPython.core.display.Markdown object>"
      ]
     },
     "metadata": {},
     "output_type": "display_data"
    }
   ],
   "source": [
    "markdown = r\"\"\"\n",
    "### 🧵 Wave Speed Difference Between Strings A and B\n",
    "\n",
    "**Question:**  \n",
    "If two strings A and B of identical length and fixed boundaries are subject to the same initial disturbance, why might a wave travel *slower* along string A than along string B?\n",
    "\n",
    "**Correct Choice: a) Tension is higher in string B**\n",
    "\n",
    "#### ✅ Explanation:\n",
    "The speed \\( v \\) of a wave on a string is given by the equation:\n",
    "\n",
    "$$\n",
    "v = \\sqrt{\\frac{T}{\\mu}}\n",
    "$$\n",
    "\n",
    "where:\n",
    "- \\( T \\) is the **tension** in the string,\n",
    "- \\( \\mu \\) is the **linear mass density** (mass per unit length).\n",
    "\n",
    "So, if **tension is higher in string B** while the mass density remains the same for both strings, then:\n",
    "\n",
    "- \\( v_B = \\sqrt{T_B / \\mu} \\) will be **greater** than\n",
    "- \\( v_A = \\sqrt{T_A / \\mu} \\) if \\( T_B > T_A \\)\n",
    "\n",
    "Hence, **the wave travels slower in string A** because it has **lower tension**.\n",
    "\n",
    "#### ❌ Why not the other options?\n",
    "- **(b)** If the linear mass density is higher in string B, it would **slow down** the wave in B, not speed it up.\n",
    "- **(c)** Painting a string **does not significantly affect** wave speed, unless it changes mass/tension, which is not stated.\n",
    "\"\"\"\n",
    "\n",
    "display(Markdown(markdown))\n"
   ]
  },
  {
   "cell_type": "code",
   "execution_count": 23,
   "id": "7f51bbbc",
   "metadata": {},
   "outputs": [
    {
     "data": {
      "text/markdown": [
       "\n",
       "### 🌈 Frequency of Violet Light\n",
       "\n",
       "Given:\n",
       "- Wavelength of violet light: $$ \\lambda = 433 \\, \\text{nm} = 433 \\times 10^{-9} \\, \\text{m} $$\n",
       "- Speed of light: $$ v = 3.00 \\times 10^8 \\, \\text{m/s} $$\n",
       "\n",
       "We use the wave equation to calculate the frequency $$ f $$:\n",
       "\n",
       "$$ f = \\frac{v}{\\lambda} $$\n",
       "\n",
       "Substitute the known values:\n",
       "\n",
       "$$ f = \\frac{3.00 \\times 10^8 \\, \\text{m/s}}{433 \\times 10^{-9} \\, \\text{m}} $$\n",
       "\n",
       "Simplifying:\n",
       "\n",
       "$$ f = 6.93 \\times 10^{14} \\, \\text{Hz} $$\n",
       "\n",
       "Thus, the frequency of violet light is approximately:\n",
       "\n",
       "$$ f \\approx 6.93 \\times 10^{14} \\, \\text{Hz} $$\n"
      ],
      "text/plain": [
       "<IPython.core.display.Markdown object>"
      ]
     },
     "metadata": {},
     "output_type": "display_data"
    }
   ],
   "source": [
    "markdown_text = r\"\"\"\n",
    "### 🌈 Frequency of Violet Light\n",
    "\n",
    "Given:\n",
    "- Wavelength of violet light: $$ \\lambda = 433 \\, \\text{nm} = 433 \\times 10^{-9} \\, \\text{m} $$\n",
    "- Speed of light: $$ v = 3.00 \\times 10^8 \\, \\text{m/s} $$\n",
    "\n",
    "We use the wave equation to calculate the frequency $$ f $$:\n",
    "\n",
    "$$ f = \\frac{v}{\\lambda} $$\n",
    "\n",
    "Substitute the known values:\n",
    "\n",
    "$$ f = \\frac{3.00 \\times 10^8 \\, \\text{m/s}}{433 \\times 10^{-9} \\, \\text{m}} $$\n",
    "\n",
    "Simplifying:\n",
    "\n",
    "$$ f = 6.93 \\times 10^{14} \\, \\text{Hz} $$\n",
    "\n",
    "Thus, the frequency of violet light is approximately:\n",
    "\n",
    "$$ f \\approx 6.93 \\times 10^{14} \\, \\text{Hz} $$\n",
    "\"\"\"\n",
    "\n",
    "display(Markdown(markdown_text))"
   ]
  },
  {
   "cell_type": "markdown",
   "id": "0c3a6b75",
   "metadata": {},
   "source": [
    "### 🌊 Standing Waves vs. Traveling Waves\n",
    "\n",
    "**Traveling Waves:**  \n",
    "- **Speed:** Move through the medium at a fixed speed, determined by the medium's properties (e.g., speed of sound in air or speed of light in a vacuum).  \n",
    "- **Energy Transfer:** Continuously transfer energy from one point to another.  \n",
    "- **Waveform:** Crests and troughs advance through the medium over time.  \n",
    "\n",
    "**Standing Waves:**  \n",
    "- **Speed:** Do not travel through the medium. They are formed by the interference of two traveling waves moving in opposite directions with the same frequency and amplitude.  \n",
    "- **Energy Transfer:** Energy remains localized, oscillating in place without overall propagation.  \n",
    "- **Waveform:** Appears stationary, with fixed nodes (no displacement) and antinodes (maximum displacement).  \n",
    "\n",
    "**Conclusion:**  \n",
    "While the individual waves that form a standing wave travel at the same speed as normal traveling waves, the standing wave itself has no net speed because it lacks a forward-moving energy transfer.\n"
   ]
  },
  {
   "cell_type": "code",
   "execution_count": 14,
   "id": "5620feb9",
   "metadata": {},
   "outputs": [
    {
     "data": {
      "text/html": [
       "<div>\n",
       "<style scoped>\n",
       "    .dataframe tbody tr th:only-of-type {\n",
       "        vertical-align: middle;\n",
       "    }\n",
       "\n",
       "    .dataframe tbody tr th {\n",
       "        vertical-align: top;\n",
       "    }\n",
       "\n",
       "    .dataframe thead th {\n",
       "        text-align: right;\n",
       "    }\n",
       "</style>\n",
       "<table border=\"1\" class=\"dataframe\">\n",
       "  <thead>\n",
       "    <tr style=\"text-align: right;\">\n",
       "      <th></th>\n",
       "      <th>Lₛₜᵣᵢₙg (m)</th>\n",
       "      <th>Mₛₜᵣᵢₙg (kg)</th>\n",
       "      <th>μₑₛₜ (kg/m)</th>\n",
       "      <th>fₘᵢₙ</th>\n",
       "      <th>fₘₐₓ</th>\n",
       "      <th>fₐᵥg (Hz)</th>\n",
       "      <th>Calculated μₑₛₜ (kg/m)</th>\n",
       "    </tr>\n",
       "  </thead>\n",
       "  <tbody>\n",
       "    <tr>\n",
       "      <th>0</th>\n",
       "      <td>1.8300</td>\n",
       "      <td>0.0006</td>\n",
       "      <td>0.0003</td>\n",
       "      <td>NaN</td>\n",
       "      <td>NaN</td>\n",
       "      <td>60</td>\n",
       "      <td>0.0003</td>\n",
       "    </tr>\n",
       "  </tbody>\n",
       "</table>\n",
       "</div>"
      ],
      "text/plain": [
       "   Lₛₜᵣᵢₙg (m)  Mₛₜᵣᵢₙg (kg)  μₑₛₜ (kg/m)  fₘᵢₙ  fₘₐₓ  fₐᵥg (Hz)  \\\n",
       "0       1.8300        0.0006       0.0003   NaN   NaN         60   \n",
       "\n",
       "   Calculated μₑₛₜ (kg/m)  \n",
       "0                  0.0003  "
      ]
     },
     "metadata": {},
     "output_type": "display_data"
    }
   ],
   "source": [
    "# === Load Table 18-1 ===\n",
    "file_path = \"/Users/akkeem/Documents/ClassAssignments/Physics212/Lab18/table_18_1_linear_mass_density.csv\"  # Update path as needed\n",
    "try:\n",
    "    df1 = pd.read_csv(file_path)\n",
    "except FileNotFoundError:\n",
    "    print(f\"❌ File not found: {file_path}\")\n",
    "    exit()\n",
    "display(df1)"
   ]
  },
  {
   "cell_type": "code",
   "execution_count": 24,
   "id": "f5f943e1",
   "metadata": {},
   "outputs": [
    {
     "data": {
      "text/markdown": [
       "\n",
       "### 🎺 Standing Waves in a Concert Hall\n",
       "\n",
       "If Wynton Marsalis and Miles Davis had a trumpet duel in a large classroom, the standing wave frequencies would depend on:\n",
       "- **Room Length:** $L$\n",
       "- **Speed of Sound:** $v \\approx 343 \\, \\text{m/s}$\n",
       "\n",
       "Fundamental frequency:\n",
       "\n",
       "$$\n",
       "f = \\frac{v}{2L}\n",
       "$$\n",
       "\n",
       "where:\n",
       "- $v$ = speed of sound\n",
       "- $L$ = room length\n",
       "\n",
       "Example ($L = 10 \\, \\text{m}$):\n",
       "\n",
       "$$\n",
       "f = \\frac{343}{20} = 17.15 \\, \\text{Hz}\n",
       "$$\n",
       "\n",
       "Overtones are integer multiples of $f$.\n"
      ],
      "text/plain": [
       "<IPython.core.display.Markdown object>"
      ]
     },
     "metadata": {},
     "output_type": "display_data"
    }
   ],
   "source": [
    "markdown_text = r\"\"\"\n",
    "### 🎺 Standing Waves in a Concert Hall\n",
    "\n",
    "If Wynton Marsalis and Miles Davis had a trumpet duel in a large classroom, the standing wave frequencies would depend on:\n",
    "- **Room Length:** $L$\n",
    "- **Speed of Sound:** $v \\approx 343 \\, \\text{m/s}$\n",
    "\n",
    "Fundamental frequency:\n",
    "\n",
    "$$\n",
    "f = \\frac{v}{2L}\n",
    "$$\n",
    "\n",
    "where:\n",
    "- $v$ = speed of sound\n",
    "- $L$ = room length\n",
    "\n",
    "Example ($L = 10 \\, \\text{m}$):\n",
    "\n",
    "$$\n",
    "f = \\frac{343}{20} = 17.15 \\, \\text{Hz}\n",
    "$$\n",
    "\n",
    "Overtones are integer multiples of $f$.\n",
    "\"\"\"\n",
    "\n",
    "display(Markdown(markdown_text))"
   ]
  },
  {
   "cell_type": "code",
   "execution_count": 15,
   "id": "2b63ca02",
   "metadata": {},
   "outputs": [
    {
     "data": {
      "text/html": [
       "<div>\n",
       "<style scoped>\n",
       "    .dataframe tbody tr th:only-of-type {\n",
       "        vertical-align: middle;\n",
       "    }\n",
       "\n",
       "    .dataframe tbody tr th {\n",
       "        vertical-align: top;\n",
       "    }\n",
       "\n",
       "    .dataframe thead th {\n",
       "        text-align: right;\n",
       "    }\n",
       "</style>\n",
       "<table border=\"1\" class=\"dataframe\">\n",
       "  <thead>\n",
       "    <tr style=\"text-align: right;\">\n",
       "      <th></th>\n",
       "      <th>Harmonic Number (n)</th>\n",
       "      <th>Suspended Mass M (kg)</th>\n",
       "      <th>Segment Length L/n (m)</th>\n",
       "      <th>Segment Length Squared (L²/n² (m²)</th>\n",
       "      <th>Tension T (N= kg m/s²)</th>\n",
       "      <th>Calculated Tension</th>\n",
       "      <th>Calculated Length Squared</th>\n",
       "    </tr>\n",
       "  </thead>\n",
       "  <tbody>\n",
       "    <tr>\n",
       "      <th>0</th>\n",
       "      <td>2.0000</td>\n",
       "      <td>0.1900</td>\n",
       "      <td>0.6800</td>\n",
       "      <td>0.4624</td>\n",
       "      <td>1.8639</td>\n",
       "      <td>1.8639</td>\n",
       "      <td>0.4624</td>\n",
       "    </tr>\n",
       "    <tr>\n",
       "      <th>1</th>\n",
       "      <td>3.0000</td>\n",
       "      <td>0.1050</td>\n",
       "      <td>0.5050</td>\n",
       "      <td>0.2550</td>\n",
       "      <td>1.0300</td>\n",
       "      <td>1.0300</td>\n",
       "      <td>0.2550</td>\n",
       "    </tr>\n",
       "    <tr>\n",
       "      <th>2</th>\n",
       "      <td>4.0000</td>\n",
       "      <td>0.0550</td>\n",
       "      <td>0.3700</td>\n",
       "      <td>0.1369</td>\n",
       "      <td>0.5396</td>\n",
       "      <td>0.5396</td>\n",
       "      <td>0.1369</td>\n",
       "    </tr>\n",
       "    <tr>\n",
       "      <th>3</th>\n",
       "      <td>5.0000</td>\n",
       "      <td>0.0300</td>\n",
       "      <td>0.2700</td>\n",
       "      <td>0.0729</td>\n",
       "      <td>0.2943</td>\n",
       "      <td>0.2943</td>\n",
       "      <td>0.0729</td>\n",
       "    </tr>\n",
       "    <tr>\n",
       "      <th>4</th>\n",
       "      <td>6.0000</td>\n",
       "      <td>0.0250</td>\n",
       "      <td>0.2550</td>\n",
       "      <td>0.0650</td>\n",
       "      <td>0.2453</td>\n",
       "      <td>0.2453</td>\n",
       "      <td>0.0650</td>\n",
       "    </tr>\n",
       "    <tr>\n",
       "      <th>5</th>\n",
       "      <td>7.0000</td>\n",
       "      <td>0.0150</td>\n",
       "      <td>0.1800</td>\n",
       "      <td>0.0324</td>\n",
       "      <td>0.1472</td>\n",
       "      <td>0.1472</td>\n",
       "      <td>0.0324</td>\n",
       "    </tr>\n",
       "    <tr>\n",
       "      <th>6</th>\n",
       "      <td>8.0000</td>\n",
       "      <td>0.0120</td>\n",
       "      <td>0.1650</td>\n",
       "      <td>0.0272</td>\n",
       "      <td>0.1177</td>\n",
       "      <td>0.1177</td>\n",
       "      <td>0.0272</td>\n",
       "    </tr>\n",
       "  </tbody>\n",
       "</table>\n",
       "</div>"
      ],
      "text/plain": [
       "   Harmonic Number (n)  Suspended Mass M (kg)  Segment Length L/n (m)  \\\n",
       "0               2.0000                 0.1900                  0.6800   \n",
       "1               3.0000                 0.1050                  0.5050   \n",
       "2               4.0000                 0.0550                  0.3700   \n",
       "3               5.0000                 0.0300                  0.2700   \n",
       "4               6.0000                 0.0250                  0.2550   \n",
       "5               7.0000                 0.0150                  0.1800   \n",
       "6               8.0000                 0.0120                  0.1650   \n",
       "\n",
       "   Segment Length Squared (L²/n² (m²)  Tension T (N= kg m/s²)  \\\n",
       "0                              0.4624                  1.8639   \n",
       "1                              0.2550                  1.0300   \n",
       "2                              0.1369                  0.5396   \n",
       "3                              0.0729                  0.2943   \n",
       "4                              0.0650                  0.2453   \n",
       "5                              0.0324                  0.1472   \n",
       "6                              0.0272                  0.1177   \n",
       "\n",
       "   Calculated Tension  Calculated Length Squared  \n",
       "0              1.8639                     0.4624  \n",
       "1              1.0300                     0.2550  \n",
       "2              0.5396                     0.1369  \n",
       "3              0.2943                     0.0729  \n",
       "4              0.2453                     0.0650  \n",
       "5              0.1472                     0.0324  \n",
       "6              0.1177                     0.0272  "
      ]
     },
     "metadata": {},
     "output_type": "display_data"
    }
   ],
   "source": [
    "# === Load Table 18-2 ===\n",
    "file_path = \"/Users/akkeem/Documents/ClassAssignments/Physics212/Lab18/table_18_2_standing_waves.csv\"  # Update path as needed\n",
    "try:\n",
    "    df2 = pd.read_csv(file_path)\n",
    "except FileNotFoundError:\n",
    "    print(f\"❌ File not found: {file_path}\")\n",
    "    exit()\n",
    "display(df2)"
   ]
  },
  {
   "cell_type": "code",
   "execution_count": 16,
   "id": "5633c8d7",
   "metadata": {},
   "outputs": [
    {
     "name": "stdout",
     "output_type": "stream",
     "text": [
      "=== Complete Standing Wave Analysis ===\n"
     ]
    },
    {
     "data": {
      "text/html": [
       "<div>\n",
       "<style scoped>\n",
       "    .dataframe tbody tr th:only-of-type {\n",
       "        vertical-align: middle;\n",
       "    }\n",
       "\n",
       "    .dataframe tbody tr th {\n",
       "        vertical-align: top;\n",
       "    }\n",
       "\n",
       "    .dataframe thead th {\n",
       "        text-align: right;\n",
       "    }\n",
       "</style>\n",
       "<table border=\"1\" class=\"dataframe\">\n",
       "  <thead>\n",
       "    <tr style=\"text-align: right;\">\n",
       "      <th></th>\n",
       "      <th>Harmonic Number (n)</th>\n",
       "      <th>Segment Length L/n (m)</th>\n",
       "      <th>Segment Length Squared (L²/n² (m²)</th>\n",
       "      <th>Tension T (N= kg m/s²)</th>\n",
       "      <th>Wave Speed v (m/s)</th>\n",
       "      <th>√Tension (√N)</th>\n",
       "      <th>Predicted (L/n)²</th>\n",
       "    </tr>\n",
       "  </thead>\n",
       "  <tbody>\n",
       "    <tr>\n",
       "      <th>0</th>\n",
       "      <td>2.000000</td>\n",
       "      <td>0.680000</td>\n",
       "      <td>0.462400</td>\n",
       "      <td>1.863900</td>\n",
       "      <td>75.398243</td>\n",
       "      <td>1.365247</td>\n",
       "      <td>0.394784</td>\n",
       "    </tr>\n",
       "    <tr>\n",
       "      <th>1</th>\n",
       "      <td>3.000000</td>\n",
       "      <td>0.505000</td>\n",
       "      <td>0.255000</td>\n",
       "      <td>1.030000</td>\n",
       "      <td>56.049086</td>\n",
       "      <td>1.014889</td>\n",
       "      <td>0.218160</td>\n",
       "    </tr>\n",
       "    <tr>\n",
       "      <th>2</th>\n",
       "      <td>4.000000</td>\n",
       "      <td>0.370000</td>\n",
       "      <td>0.136900</td>\n",
       "      <td>0.539600</td>\n",
       "      <td>40.568214</td>\n",
       "      <td>0.734575</td>\n",
       "      <td>0.114290</td>\n",
       "    </tr>\n",
       "    <tr>\n",
       "      <th>3</th>\n",
       "      <td>5.000000</td>\n",
       "      <td>0.270000</td>\n",
       "      <td>0.072900</td>\n",
       "      <td>0.294300</td>\n",
       "      <td>29.960224</td>\n",
       "      <td>0.542494</td>\n",
       "      <td>0.062334</td>\n",
       "    </tr>\n",
       "    <tr>\n",
       "      <th>4</th>\n",
       "      <td>6.000000</td>\n",
       "      <td>0.255000</td>\n",
       "      <td>0.065000</td>\n",
       "      <td>0.245300</td>\n",
       "      <td>27.352605</td>\n",
       "      <td>0.495278</td>\n",
       "      <td>0.051956</td>\n",
       "    </tr>\n",
       "    <tr>\n",
       "      <th>5</th>\n",
       "      <td>7.000000</td>\n",
       "      <td>0.180000</td>\n",
       "      <td>0.032400</td>\n",
       "      <td>0.147200</td>\n",
       "      <td>21.188676</td>\n",
       "      <td>0.383667</td>\n",
       "      <td>0.031178</td>\n",
       "    </tr>\n",
       "    <tr>\n",
       "      <th>6</th>\n",
       "      <td>8.000000</td>\n",
       "      <td>0.165000</td>\n",
       "      <td>0.027200</td>\n",
       "      <td>0.117700</td>\n",
       "      <td>18.946899</td>\n",
       "      <td>0.343074</td>\n",
       "      <td>0.024930</td>\n",
       "    </tr>\n",
       "  </tbody>\n",
       "</table>\n",
       "</div>"
      ],
      "text/plain": [
       "   Harmonic Number (n)  Segment Length L/n (m)  \\\n",
       "0             2.000000                0.680000   \n",
       "1             3.000000                0.505000   \n",
       "2             4.000000                0.370000   \n",
       "3             5.000000                0.270000   \n",
       "4             6.000000                0.255000   \n",
       "5             7.000000                0.180000   \n",
       "6             8.000000                0.165000   \n",
       "\n",
       "   Segment Length Squared (L²/n² (m²)  Tension T (N= kg m/s²)  \\\n",
       "0                            0.462400                1.863900   \n",
       "1                            0.255000                1.030000   \n",
       "2                            0.136900                0.539600   \n",
       "3                            0.072900                0.294300   \n",
       "4                            0.065000                0.245300   \n",
       "5                            0.032400                0.147200   \n",
       "6                            0.027200                0.117700   \n",
       "\n",
       "   Wave Speed v (m/s)  √Tension (√N)  Predicted (L/n)²  \n",
       "0           75.398243       1.365247          0.394784  \n",
       "1           56.049086       1.014889          0.218160  \n",
       "2           40.568214       0.734575          0.114290  \n",
       "3           29.960224       0.542494          0.062334  \n",
       "4           27.352605       0.495278          0.051956  \n",
       "5           21.188676       0.383667          0.031178  \n",
       "6           18.946899       0.343074          0.024930  "
      ]
     },
     "metadata": {},
     "output_type": "display_data"
    },
    {
     "data": {
      "image/png": "[encoded data removed]",
      "text/plain": [
       "<Figure size 1200x600 with 1 Axes>"
      ]
     },
     "metadata": {},
     "output_type": "display_data"
    },
    {
     "name": "stdout",
     "output_type": "stream",
     "text": [
      "\n",
      "Experimental Slope Cₒ = 0.248484 m²/N\n",
      "Theoretical 1/(4μf²) = 0.211806 m²/N\n",
      "Percentage Difference: 17.32%\n",
      "\n",
      "✅ Analysis saved to 'standing_wave_analysis_results.csv'\n"
     ]
    }
   ],
   "source": [
    "# ==============================================\n",
    "# 1. Prepare Data\n",
    "# ==============================================\n",
    "μ = df1['μₑₛₜ (kg/m)'].iloc[0]  # 0.000328 kg/m\n",
    "f_avg = df1['fₐᵥg (Hz)'].iloc[0]  # 60 Hz\n",
    "\n",
    "\n",
    "# ==============================================\n",
    "# 2. Create Analysis Table with Key Quantities\n",
    "# ==============================================\n",
    "analysis_df = df2[['Harmonic Number (n)',\n",
    "                 'Segment Length L/n (m)',\n",
    "                 'Segment Length Squared (L²/n² (m²)',\n",
    "                 'Tension T (N= kg m/s²)']].copy()\n",
    "\n",
    "# Calculate additional physics quantities\n",
    "analysis_df['Wave Speed v (m/s)'] = np.sqrt(analysis_df['Tension T (N= kg m/s²)'] / μ)\n",
    "analysis_df['√Tension (√N)'] = np.sqrt(analysis_df['Tension T (N= kg m/s²)'])\n",
    "analysis_df['Predicted (L/n)²'] = 1/(4 * μ * f_avg**2) * analysis_df['Tension T (N= kg m/s²)']\n",
    "\n",
    "# Format display\n",
    "pd.options.display.float_format = '{:.6f}'.format\n",
    "print(\"=== Complete Standing Wave Analysis ===\")\n",
    "display(analysis_df)\n",
    "\n",
    "# ==============================================\n",
    "# 3. Plotting and Linear Regression\n",
    "# ==============================================\n",
    "plt.figure(figsize=(12, 6))\n",
    "\n",
    "# Experimental data\n",
    "plt.scatter(analysis_df['Tension T (N= kg m/s²)'], \n",
    "            analysis_df['Segment Length Squared (L²/n² (m²)'],\n",
    "            color='blue', s=100, label='Experimental Data')\n",
    "\n",
    "# Linear fit\n",
    "X = analysis_df['Tension T (N= kg m/s²)']\n",
    "Y = analysis_df['Segment Length Squared (L²/n² (m²)']\n",
    "slope, intercept, r_value, _, _ = linregress(X, Y)\n",
    "plt.plot(X, slope*X + intercept, 'r--', \n",
    "         label=f'Linear Fit: (L/n)² = {slope:.4f}T + {intercept:.4f}\\nR² = {r_value**2:.4f}')\n",
    "\n",
    "# Theoretical prediction\n",
    "plt.plot(analysis_df['Tension T (N= kg m/s²)'], \n",
    "         analysis_df['Predicted (L/n)²'],\n",
    "         'g:', label=f'Theoretical: (L/n)² = T/(4μf²)\\n(μ={μ:.3e} kg/m, f={f_avg} Hz)')\n",
    "\n",
    "plt.xlabel('Tension T (N)', fontsize=12)\n",
    "plt.ylabel('Segment Length Squared (L/n)² (m²)', fontsize=12)\n",
    "plt.title('Standing Wave Relationship: (L/n)² vs Tension', fontsize=14)\n",
    "plt.legend(fontsize=10)\n",
    "plt.grid(True)\n",
    "plt.tight_layout()\n",
    "plt.show()\n",
    "\n",
    "# ==============================================\n",
    "# 4. Physics Analysis\n",
    "# ==============================================\n",
    "Cₒ = slope  # Experimental slope = 1/(4μf²)\n",
    "print(f\"\\nExperimental Slope Cₒ = {Cₒ:.6f} m²/N\")\n",
    "print(f\"Theoretical 1/(4μf²) = {1/(4*μ*f_avg**2):.6f} m²/N\")\n",
    "\n",
    "# Calculate percentage difference\n",
    "theory_val = 1/(4*μ*f_avg**2)\n",
    "percent_diff = 100*abs(Cₒ - theory_val)/theory_val\n",
    "print(f\"Percentage Difference: {percent_diff:.2f}%\")\n",
    "\n",
    "# ==============================================\n",
    "# 5. Save Results\n",
    "# ==============================================\n",
    "analysis_df.to_csv('standing_wave_analysis_results.csv', index=False)\n",
    "print(\"\\n✅ Analysis saved to 'standing_wave_analysis_results.csv'\")"
   ]
  },
  {
   "cell_type": "code",
   "execution_count": 17,
   "id": "a36be281",
   "metadata": {},
   "outputs": [
    {
     "name": "stdout",
     "output_type": "stream",
     "text": [
      "=== Wave Speed Analysis Table ===\n",
      "Using linear mass density μ = 0.000328 kg/m\n"
     ]
    },
    {
     "data": {
      "text/html": [
       "<div>\n",
       "<style scoped>\n",
       "    .dataframe tbody tr th:only-of-type {\n",
       "        vertical-align: middle;\n",
       "    }\n",
       "\n",
       "    .dataframe tbody tr th {\n",
       "        vertical-align: top;\n",
       "    }\n",
       "\n",
       "    .dataframe thead th {\n",
       "        text-align: right;\n",
       "    }\n",
       "</style>\n",
       "<table border=\"1\" class=\"dataframe\">\n",
       "  <thead>\n",
       "    <tr style=\"text-align: right;\">\n",
       "      <th></th>\n",
       "      <th>Harmonic (n)</th>\n",
       "      <th>Segment Length L/n (m)</th>\n",
       "      <th>Tension T (N)</th>\n",
       "      <th>√Tension (√N)</th>\n",
       "      <th>Wave Speed v (m/s)</th>\n",
       "      <th>Expected v (m/s)</th>\n",
       "      <th>Speed Ratio (v/√T)</th>\n",
       "    </tr>\n",
       "  </thead>\n",
       "  <tbody>\n",
       "    <tr>\n",
       "      <th>0</th>\n",
       "      <td>2.0000</td>\n",
       "      <td>0.6800</td>\n",
       "      <td>1.8639</td>\n",
       "      <td>1.3652</td>\n",
       "      <td>75.3982</td>\n",
       "      <td>75.3982</td>\n",
       "      <td>55.2268</td>\n",
       "    </tr>\n",
       "    <tr>\n",
       "      <th>1</th>\n",
       "      <td>3.0000</td>\n",
       "      <td>0.5050</td>\n",
       "      <td>1.0300</td>\n",
       "      <td>1.0149</td>\n",
       "      <td>56.0491</td>\n",
       "      <td>56.0491</td>\n",
       "      <td>55.2268</td>\n",
       "    </tr>\n",
       "    <tr>\n",
       "      <th>2</th>\n",
       "      <td>4.0000</td>\n",
       "      <td>0.3700</td>\n",
       "      <td>0.5396</td>\n",
       "      <td>0.7346</td>\n",
       "      <td>40.5682</td>\n",
       "      <td>40.5682</td>\n",
       "      <td>55.2268</td>\n",
       "    </tr>\n",
       "    <tr>\n",
       "      <th>3</th>\n",
       "      <td>5.0000</td>\n",
       "      <td>0.2700</td>\n",
       "      <td>0.2943</td>\n",
       "      <td>0.5425</td>\n",
       "      <td>29.9602</td>\n",
       "      <td>29.9602</td>\n",
       "      <td>55.2268</td>\n",
       "    </tr>\n",
       "    <tr>\n",
       "      <th>4</th>\n",
       "      <td>6.0000</td>\n",
       "      <td>0.2550</td>\n",
       "      <td>0.2453</td>\n",
       "      <td>0.4953</td>\n",
       "      <td>27.3526</td>\n",
       "      <td>27.3526</td>\n",
       "      <td>55.2268</td>\n",
       "    </tr>\n",
       "    <tr>\n",
       "      <th>5</th>\n",
       "      <td>7.0000</td>\n",
       "      <td>0.1800</td>\n",
       "      <td>0.1472</td>\n",
       "      <td>0.3837</td>\n",
       "      <td>21.1887</td>\n",
       "      <td>21.1887</td>\n",
       "      <td>55.2268</td>\n",
       "    </tr>\n",
       "    <tr>\n",
       "      <th>6</th>\n",
       "      <td>8.0000</td>\n",
       "      <td>0.1650</td>\n",
       "      <td>0.1177</td>\n",
       "      <td>0.3431</td>\n",
       "      <td>18.9469</td>\n",
       "      <td>18.9469</td>\n",
       "      <td>55.2268</td>\n",
       "    </tr>\n",
       "  </tbody>\n",
       "</table>\n",
       "</div>"
      ],
      "text/plain": [
       "   Harmonic (n)  Segment Length L/n (m)  Tension T (N)  √Tension (√N)  \\\n",
       "0        2.0000                  0.6800         1.8639         1.3652   \n",
       "1        3.0000                  0.5050         1.0300         1.0149   \n",
       "2        4.0000                  0.3700         0.5396         0.7346   \n",
       "3        5.0000                  0.2700         0.2943         0.5425   \n",
       "4        6.0000                  0.2550         0.2453         0.4953   \n",
       "5        7.0000                  0.1800         0.1472         0.3837   \n",
       "6        8.0000                  0.1650         0.1177         0.3431   \n",
       "\n",
       "   Wave Speed v (m/s)  Expected v (m/s)  Speed Ratio (v/√T)  \n",
       "0             75.3982           75.3982             55.2268  \n",
       "1             56.0491           56.0491             55.2268  \n",
       "2             40.5682           40.5682             55.2268  \n",
       "3             29.9602           29.9602             55.2268  \n",
       "4             27.3526           27.3526             55.2268  \n",
       "5             21.1887           21.1887             55.2268  \n",
       "6             18.9469           18.9469             55.2268  "
      ]
     },
     "metadata": {},
     "output_type": "display_data"
    },
    {
     "name": "stdout",
     "output_type": "stream",
     "text": [
      "\n",
      "Average v/√T ratio: 55.2268 m/s/√N\n",
      "Expected 1/√μ: 55.2268 m/s/√N\n",
      "Percentage difference: 0.00%\n",
      "\n",
      "✅ Results saved to 'wave_speed_analysis.csv'\n"
     ]
    }
   ],
   "source": [
    "# Get constants from Table 18-1\n",
    "μ = df1['μₑₛₜ (kg/m)'].iloc[0]  # Linear mass density (0.000328 kg/m)\n",
    "\n",
    "# Create analysis table\n",
    "wave_speed_df = pd.DataFrame({\n",
    "    'Harmonic (n)': df2['Harmonic Number (n)'],\n",
    "    'Segment Length L/n (m)': df2['Segment Length L/n (m)'],\n",
    "    'Tension T (N)': df2['Tension T (N= kg m/s²)'],\n",
    "    '√Tension (√N)': np.sqrt(df2['Tension T (N= kg m/s²)']),\n",
    "    'Wave Speed v (m/s)': np.sqrt(df2['Tension T (N= kg m/s²)'] / μ)\n",
    "})\n",
    "\n",
    "# Verify the √T relationship\n",
    "expected_wave_speed = wave_speed_df['√Tension (√N)'] / np.sqrt(μ)\n",
    "wave_speed_df['Expected v (m/s)'] = expected_wave_speed\n",
    "wave_speed_df['Speed Ratio (v/√T)'] = wave_speed_df['Wave Speed v (m/s)'] / wave_speed_df['√Tension (√N)']\n",
    "\n",
    "# Format display\n",
    "pd.options.display.float_format = '{:.4f}'.format\n",
    "print(\"=== Wave Speed Analysis Table ===\")\n",
    "print(f\"Using linear mass density μ = {μ:.6f} kg/m\")\n",
    "display(wave_speed_df)\n",
    "\n",
    "# Check consistency of v/√T ratio\n",
    "avg_ratio = wave_speed_df['Speed Ratio (v/√T)'].mean()\n",
    "print(f\"\\nAverage v/√T ratio: {avg_ratio:.4f} m/s/√N\")\n",
    "print(f\"Expected 1/√μ: {1/np.sqrt(μ):.4f} m/s/√N\")\n",
    "print(f\"Percentage difference: {100*abs(avg_ratio - 1/np.sqrt(μ))/(1/np.sqrt(μ)):.2f}%\")\n",
    "\n",
    "# Save results\n",
    "wave_speed_df.to_csv('wave_speed_analysis.csv', index=False)\n",
    "print(\"\\n✅ Results saved to 'wave_speed_analysis.csv'\")"
   ]
  },
  {
   "cell_type": "code",
   "execution_count": 18,
   "id": "847d0e66",
   "metadata": {},
   "outputs": [
    {
     "data": {
      "image/png": "[encoded data removed]",
      "text/plain": [
       "<Figure size 1000x600 with 1 Axes>"
      ]
     },
     "metadata": {},
     "output_type": "display_data"
    },
    {
     "name": "stdout",
     "output_type": "stream",
     "text": [
      "Experimental slope Dₒ = 55.2268 m/s/√N\n",
      "Theoretical slope (1/μ)^(1/2) = 55.2268 m/s/√N\n",
      "Percentage difference: 0.00%\n",
      "\n",
      "Conclusion: Excellent agreement with theory (v = √(T/μ))\n"
     ]
    }
   ],
   "source": [
    "\n",
    "\n",
    "# Calculate quantities\n",
    "df2['√Tension (√N)'] = np.sqrt(df2['Tension T (N= kg m/s²)'])\n",
    "df2['Wave Speed v (m/s)'] = np.sqrt(df2['Tension T (N= kg m/s²)'] / μ)\n",
    "\n",
    "# Linear regression\n",
    "X = df2['√Tension (√N)']\n",
    "Y = df2['Wave Speed v (m/s)']\n",
    "slope, intercept, r_value, _, _ = linregress(X, Y)\n",
    "\n",
    "# Create plot\n",
    "plt.figure(figsize=(10,6))\n",
    "plt.scatter(X, Y, color='blue', s=100, label='Experimental Data')\n",
    "plt.plot(X, slope*X + intercept, 'r--', \n",
    "         label=f'Linear Fit: v = {slope:.2f}√T + {intercept:.2f}\\nR² = {r_value**2:.4f}')\n",
    "\n",
    "# Theoretical line\n",
    "x_theory = np.linspace(0, X.max(), 100)\n",
    "y_theory = x_theory / np.sqrt(μ)\n",
    "plt.plot(x_theory, y_theory, 'g:', \n",
    "         label=f'Theoretical: v = (1/μ)$^{1/2}$√T\\n= {1/np.sqrt(μ):.2f}√T')\n",
    "\n",
    "plt.xlabel('Square Root of Tension √T (√N)', fontsize=12)\n",
    "plt.ylabel('Wave Speed v (m/s)', fontsize=12)\n",
    "plt.title('Wave Speed vs √Tension\\n(Verification of v ∝ √T Relationship)', fontsize=14)\n",
    "plt.legend(fontsize=10)\n",
    "plt.grid(True)\n",
    "plt.tight_layout()\n",
    "plt.show()\n",
    "\n",
    "# Analysis\n",
    "Dₒ = slope  # Experimental slope\n",
    "expected_slope = 1/np.sqrt(μ)\n",
    "percent_diff = 100 * abs(Dₒ - expected_slope)/expected_slope\n",
    "\n",
    "print(f\"Experimental slope Dₒ = {Dₒ:.4f} m/s/√N\")\n",
    "print(f\"Theoretical slope (1/μ)^(1/2) = {expected_slope:.4f} m/s/√N\")\n",
    "print(f\"Percentage difference: {percent_diff:.2f}%\")\n",
    "\n",
    "if percent_diff < 5:\n",
    "    print(\"\\nConclusion: Excellent agreement with theory (v = √(T/μ))\")\n",
    "else:\n",
    "    print(\"\\nConclusion: Significant discrepancy from theoretical expectation\")"
   ]
  },
  {
   "cell_type": "code",
   "execution_count": 25,
   "id": "86d161d0",
   "metadata": {},
   "outputs": [
    {
     "name": "stdout",
     "output_type": "stream",
     "text": [
      "Theoretical slope: 0.2117 m²/N\n",
      "Recalculated μ from slope: 0.000001 kg/m\n",
      "μ from average wave speed: 0.000409 kg/m\n"
     ]
    }
   ],
   "source": [
    "# linear regression (using slope C_o = 0.1139)\n",
    "C_o_exp = slope \n",
    "f = 60\n",
    "\n",
    "# Option A: Theoretical comparison\n",
    "mu_theory = 0.000328\n",
    "C_o_theory = 1/(4 * mu_theory * f**2)\n",
    "print(f\"Theoretical slope: {C_o_theory:.4f} m²/N\")\n",
    "\n",
    "# Option B: Recalculate mu from slope\n",
    "mu_new = 1/(4 * C_o_exp * f**2)\n",
    "print(f\"Recalculated μ from slope: {mu_new:.6f} kg/m\")\n",
    "\n",
    "# Verify with wave speed\n",
    "v_avg = df2['Wave Speed v (m/s)'].mean()\n",
    "mu_from_v = df2['Tension T (N= kg m/s²)'].mean() / v_avg**2\n",
    "print(f\"μ from average wave speed: {mu_from_v:.6f} kg/m\")"
   ]
  },
  {
   "cell_type": "code",
   "execution_count": 26,
   "id": "a6b5f527",
   "metadata": {},
   "outputs": [
    {
     "name": "stdout",
     "output_type": "stream",
     "text": [
      "μ from Table 18-1: 0.000328 kg/m\n",
      "f_avg from Table 18-1: 60 Hz\n",
      "Experimental slope C_o: 55.226805 m²/N\n"
     ]
    }
   ],
   "source": [
    "# Check your fundamental constants\n",
    "print(f\"μ from Table 18-1: {μ:.6f} kg/m\") \n",
    "print(f\"f_avg from Table 18-1: {f_avg} Hz\")\n",
    "print(f\"Experimental slope C_o: {slope:.6f} m²/N\")"
   ]
  },
  {
   "cell_type": "code",
   "execution_count": 28,
   "id": "5fe92a40",
   "metadata": {},
   "outputs": [],
   "source": [
    "if df2['Tension T (N= kg m/s²)'].mean() < 0.1:\n",
    "    print(\"Warning: Suspiciously low tension values - check units!\")"
   ]
  },
  {
   "cell_type": "code",
   "execution_count": 29,
   "id": "ddd0c711",
   "metadata": {},
   "outputs": [
    {
     "name": "stdout",
     "output_type": "stream",
     "text": [
      "Alternative frequency: 3.7 Hz\n"
     ]
    }
   ],
   "source": [
    "f_alternative = np.sqrt(1/(4*μ*slope))\n",
    "print(f\"Alternative frequency: {f_alternative:.1f} Hz\") \n",
    "# Prints ~80Hz if μ is correct"
   ]
  },
  {
   "cell_type": "code",
   "execution_count": 30,
   "id": "c6ad16ef",
   "metadata": {},
   "outputs": [
    {
     "name": "stdout",
     "output_type": "stream",
     "text": [
      "Rechecked theoretical slope: 0.211721 m²/N\n",
      "Experimental/theoretical ratio: 26084.72%\n"
     ]
    }
   ],
   "source": [
    "# Recalculate everything from scratch\n",
    "μ = 0.000328  # From Table 18-1\n",
    "f = 60         # From Table 18-1\n",
    "expected_slope = 1/(4*μ*f**2)\n",
    "\n",
    "print(f\"Rechecked theoretical slope: {expected_slope:.6f} m²/N\") \n",
    "# Should print 0.211734 m²/N\n",
    "\n",
    "# Compare with experimental slope\n",
    "print(f\"Experimental/theoretical ratio: {slope/expected_slope:.2%}\")"
   ]
  },
  {
   "cell_type": "code",
   "execution_count": 39,
   "id": "a14b9f9c",
   "metadata": {},
   "outputs": [
    {
     "name": "stdout",
     "output_type": "stream",
     "text": [
      "Suspended Masses (kg):\n",
      " 0   0.1900\n",
      "1   0.1050\n",
      "2   0.0550\n",
      "3   0.0300\n",
      "4   0.0250\n",
      "5   0.0150\n",
      "6   0.0120\n",
      "Name: Suspended Mass M (kg), dtype: float64\n",
      "Calculated Tensions (N):\n",
      " 0   1.8639\n",
      "1   1.0300\n",
      "2   0.5396\n",
      "3   0.2943\n",
      "4   0.2453\n",
      "5   0.1472\n",
      "6   0.1177\n",
      "Name: Tension T (N= kg m/s²), dtype: float64\n"
     ]
    }
   ],
   "source": [
    "# Check if tensions were calculated correctly\n",
    "print(\"Suspended Masses (kg):\\n\", df2['Suspended Mass M (kg)'])\n",
    "print(\"Calculated Tensions (N):\\n\", df2['Tension T (N= kg m/s²)'])\n",
    "\n",
    "# Typical values should be:\n",
    "# 0.190 kg → 1.8639 N\n",
    "# 0.105 kg → 1.030 N\n",
    "# etc. (g=9.81 m/s²)"
   ]
  },
  {
   "cell_type": "code",
   "execution_count": 40,
   "id": "5bb04b9e",
   "metadata": {},
   "outputs": [],
   "source": [
    "# Identified an error in measurements"
   ]
  },
  {
   "cell_type": "code",
   "execution_count": 41,
   "id": "d13ac1fd",
   "metadata": {},
   "outputs": [
    {
     "name": "stdout",
     "output_type": "stream",
     "text": [
      "Harmonic | Measured L/n | Expected L/n\n",
      " 2       0.680      0.915\n",
      " 3       0.505      0.610\n",
      " 4       0.370      0.458\n",
      " 5       0.270      0.366\n",
      " 6       0.255      0.305\n",
      " 7       0.180      0.261\n",
      " 8       0.165      0.229\n"
     ]
    }
   ],
   "source": [
    "n = df2['Harmonic Number (n)']\n",
    "L_total = 1.83  # From Table 18-1\n",
    "expected_Ln = L_total / n \n",
    "\n",
    "print(\"Harmonic | Measured L/n | Expected L/n\")\n",
    "for i in range(len(df2)):\n",
    "    print(f\"{n[i]:2.0f}      {df2['Segment Length L/n (m)'].iloc[i]:6.3f}      {expected_Ln.iloc[i]:5.3f}\")"
   ]
  },
  {
   "cell_type": "markdown",
   "id": "24a46778",
   "metadata": {},
   "source": [
    " The results suggests I hadn't calculated the half-lengths but was instead using the full wavelength measurement"
   ]
  },
  {
   "cell_type": "code",
   "execution_count": 42,
   "id": "1a449c02",
   "metadata": {},
   "outputs": [],
   "source": [
    "df2['Corrected L/n'] = df2['Segment Length L/n (m)'] / 2\n",
    "df2['Corrected (L/n)^2'] = df2['Corrected L/n']**2\n",
    "\n",
    "# Re-fit the data\n",
    "slope_corr, _, rval, _, _ = linregress(df2['Tension T (N= kg m/s²)'], df2['Corrected (L/n)^2'])\n",
    "f_corrected = np.sqrt(1/(4*μ*slope_corr))"
   ]
  },
  {
   "cell_type": "code",
   "execution_count": 43,
   "id": "6f8e5873",
   "metadata": {},
   "outputs": [
    {
     "name": "stdout",
     "output_type": "stream",
     "text": [
      "Corrected slope: 0.0621 m²/N\n",
      "Corrected frequency: 110.8 Hz\n",
      "New R² value: 0.9997\n"
     ]
    }
   ],
   "source": [
    "print(f\"Corrected slope: {slope_corr:.4f} m²/N\")\n",
    "print(f\"Corrected frequency: {f_corrected:.1f} Hz\") \n",
    "print(f\"New R² value: {rval**2:.4f}\")"
   ]
  },
  {
   "cell_type": "code",
   "execution_count": null,
   "id": "407e3d62",
   "metadata": {},
   "outputs": [],
   "source": [
    "# Apply the wavelength fix to the DataFrame\n",
    "df2['Corrected L/n'] = df2['Segment Length L/n (m)'] / 2\n",
    "df2['Corrected (L/n)²'] = (df2['Corrected L/n'])**2"
   ]
  },
  {
   "cell_type": "code",
   "execution_count": 46,
   "id": "a87a6333",
   "metadata": {},
   "outputs": [],
   "source": [
    "# Perform new fit with corrected lengths\n",
    "slope_corr, intercept_corr, r_value, _, _ = linregress(\n",
    "    df2['Tension T (N= kg m/s²)'], \n",
    "    df2['Corrected (L/n)²']\n",
    ")"
   ]
  },
  {
   "cell_type": "code",
   "execution_count": 47,
   "id": "0a83fd41",
   "metadata": {},
   "outputs": [
    {
     "name": "stdout",
     "output_type": "stream",
     "text": [
      "Recalculated driving frequency: 110.8 Hz\n"
     ]
    }
   ],
   "source": [
    "f_calculated = np.sqrt(1/(4 * μ * slope_corr))\n",
    "print(f\"Recalculated driving frequency: {f_calculated:.1f} Hz\") \n",
    "# Should now output ~60 Hz"
   ]
  },
  {
   "cell_type": "code",
   "execution_count": 49,
   "id": "283f3d06",
   "metadata": {},
   "outputs": [
    {
     "name": "stdout",
     "output_type": "stream",
     "text": [
      "μ from Table 18-1: 1.257441e-06 kg/m\n",
      "μ from plot slope: 4.085617e-04 kg/m\n",
      "Percentage difference: 0.31%\n"
     ]
    }
   ],
   "source": [
    "percent_diff = (abs( - mu_new) / mu_from_v) * 100\n",
    "\n",
    "print(f\"μ from Table 18-1: {mu_new:.6e} kg/m\")\n",
    "print(f\"μ from plot slope: {mu_from_v:.6e} kg/m\")\n",
    "print(f\"Percentage difference: {percent_diff:.2f}%\")"
   ]
  }
 ],
 "metadata": {
  "kernelspec": {
   "display_name": ".physicslab",
   "language": "python",
   "name": "python3"
  },
  "language_info": {
   "codemirror_mode": {
    "name": "ipython",
    "version": 3
   },
   "file_extension": ".py",
   "mimetype": "text/x-python",
   "name": "python",
   "nbconvert_exporter": "python",
   "pygments_lexer": "ipython3",
   "version": "3.13.2"
  }
 },
 "nbformat": 4,
 "nbformat_minor": 5
}
